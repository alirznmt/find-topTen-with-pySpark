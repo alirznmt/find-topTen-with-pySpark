{
  "nbformat": 4,
  "nbformat_minor": 0,
  "metadata": {
    "colab": {
      "provenance": [],
      "toc_visible": true
    },
    "kernelspec": {
      "name": "python3",
      "display_name": "Python 3"
    },
    "language_info": {
      "name": "python"
    }
  },
  "cells": [
    {
      "cell_type": "code",
      "execution_count": null,
      "metadata": {
        "colab": {
          "base_uri": "https://localhost:8080/",
          "height": 881
        },
        "id": "0eIiPbJwtoXn",
        "outputId": "ecd2fd2e-edf1-4daf-e5ca-f11085a549b4"
      },
      "outputs": [
        {
          "output_type": "stream",
          "name": "stdout",
          "text": [
            "\u001b[33m\r0% [Working]\u001b[0m\r            \rGet:1 https://cloud.r-project.org/bin/linux/ubuntu jammy-cran40/ InRelease [3,626 B]\n",
            "\u001b[33m\r0% [Waiting for headers] [Waiting for headers] [1 InRelease 3,626 B/3,626 B 100\u001b[0m\u001b[33m\r0% [Waiting for headers] [Waiting for headers] [Waiting for headers] [Waiting f\u001b[0m\r                                                                               \rHit:2 https://developer.download.nvidia.com/compute/cuda/repos/ubuntu2204/x86_64  InRelease\n",
            "\u001b[33m\r                                                                               \r0% [Waiting for headers] [Waiting for headers] [Waiting for headers]\u001b[0m\r                                                                    \rHit:3 https://ppa.launchpadcontent.net/c2d4u.team/c2d4u4.0+/ubuntu jammy InRelease\n",
            "\u001b[33m\r0% [Waiting for headers] [Waiting for headers] [Waiting for headers]\u001b[0m\r                                                                    \rGet:4 http://security.ubuntu.com/ubuntu jammy-security InRelease [129 kB]\n",
            "\u001b[33m\r0% [Waiting for headers] [4 InRelease 14.2 kB/129 kB 11%] [Waiting for headers]\u001b[0m\r                                                                               \rHit:5 https://ppa.launchpadcontent.net/deadsnakes/ppa/ubuntu jammy InRelease\n",
            "\u001b[33m\r0% [Waiting for headers] [4 InRelease 14.2 kB/129 kB 11%] [Waiting for headers]\u001b[0m\r                                                                               \rHit:6 http://archive.ubuntu.com/ubuntu jammy InRelease\n",
            "\u001b[33m\r                                                                               \r0% [4 InRelease 14.2 kB/129 kB 11%] [Waiting for headers]\u001b[0m\r                                                         \rHit:7 https://ppa.launchpadcontent.net/graphics-drivers/ppa/ubuntu jammy InRelease\n",
            "Hit:8 https://ppa.launchpadcontent.net/ubuntugis/ppa/ubuntu jammy InRelease\n",
            "Get:9 http://archive.ubuntu.com/ubuntu jammy-updates InRelease [128 kB]\n",
            "Get:10 http://archive.ubuntu.com/ubuntu jammy-backports InRelease [127 kB]\n",
            "Get:11 http://security.ubuntu.com/ubuntu jammy-security/main amd64 Packages [1,978 kB]\n",
            "Get:12 http://archive.ubuntu.com/ubuntu jammy-updates/universe amd64 Packages [1,400 kB]\n",
            "Get:13 http://security.ubuntu.com/ubuntu jammy-security/restricted amd64 Packages [2,566 kB]\n",
            "Get:14 http://security.ubuntu.com/ubuntu jammy-security/universe amd64 Packages [1,116 kB]\n",
            "Get:15 http://archive.ubuntu.com/ubuntu jammy-updates/main amd64 Packages [2,247 kB]\n",
            "Get:16 http://archive.ubuntu.com/ubuntu jammy-updates/restricted amd64 Packages [2,644 kB]\n",
            "Get:17 http://archive.ubuntu.com/ubuntu jammy-backports/universe amd64 Packages [32.2 kB]\n",
            "Fetched 12.4 MB in 4s (3,385 kB/s)\n",
            "Reading package lists... Done\n",
            "Building dependency tree... Done\n",
            "Reading state information... Done\n",
            "48 packages can be upgraded. Run 'apt list --upgradable' to see them.\n",
            "tar: spark-3.2.1-bin-hadoop3.2.tgz: Cannot open: No such file or directory\n",
            "tar: Error is not recoverable: exiting now\n",
            "Collecting pyspark\n",
            "  Downloading pyspark-3.5.1.tar.gz (317.0 MB)\n",
            "\u001b[2K     \u001b[90m━━━━━━━━━━━━━━━━━━━━━━━━━━━━━━━━━━━━━━━━\u001b[0m \u001b[32m317.0/317.0 MB\u001b[0m \u001b[31m3.5 MB/s\u001b[0m eta \u001b[36m0:00:00\u001b[0m\n",
            "\u001b[?25h  Preparing metadata (setup.py) ... \u001b[?25l\u001b[?25hdone\n",
            "Requirement already satisfied: py4j==0.10.9.7 in /usr/local/lib/python3.10/dist-packages (from pyspark) (0.10.9.7)\n",
            "Building wheels for collected packages: pyspark\n",
            "  Building wheel for pyspark (setup.py) ... \u001b[?25l\u001b[?25hdone\n",
            "  Created wheel for pyspark: filename=pyspark-3.5.1-py2.py3-none-any.whl size=317488491 sha256=8cdb3bd81835a03b7b6ffe3443fa942cb2c036df035208fe0d96a27dfe798aa0\n",
            "  Stored in directory: /root/.cache/pip/wheels/80/1d/60/2c256ed38dddce2fdd93be545214a63e02fbd8d74fb0b7f3a6\n",
            "Successfully built pyspark\n",
            "Installing collected packages: pyspark\n",
            "Successfully installed pyspark-3.5.1\n",
            "Requirement already satisfied: py4j in /usr/local/lib/python3.10/dist-packages (0.10.9.7)\n"
          ]
        },
        {
          "output_type": "execute_result",
          "data": {
            "text/plain": [
              "<pyspark.sql.session.SparkSession at 0x7c1a7018ffa0>"
            ],
            "text/html": [
              "\n",
              "            <div>\n",
              "                <p><b>SparkSession - in-memory</b></p>\n",
              "                \n",
              "        <div>\n",
              "            <p><b>SparkContext</b></p>\n",
              "\n",
              "            <p><a href=\"http://090e5c829ee2:4040\">Spark UI</a></p>\n",
              "\n",
              "            <dl>\n",
              "              <dt>Version</dt>\n",
              "                <dd><code>v3.5.1</code></dd>\n",
              "              <dt>Master</dt>\n",
              "                <dd><code>local[*]</code></dd>\n",
              "              <dt>AppName</dt>\n",
              "                <dd><code>BestAndWorstProducts</code></dd>\n",
              "            </dl>\n",
              "        </div>\n",
              "        \n",
              "            </div>\n",
              "        "
            ]
          },
          "metadata": {},
          "execution_count": 1
        }
      ],
      "source": [
        "!sudo apt update\n",
        "!apt-get install openjdk-8-jdk-headless -qq > /dev/null\n",
        "#Check this site for the latest download link https://www.apache.org/dyn/closer.lua/spark/spark-3.2.1/spark-3.2.1-bin-hadoop3.2.tgz\n",
        "!wget -q https://dlcdn.apache.org/spark/spark-3.2.1/spark-3.2.1-bin-hadoop3.2.tgz\n",
        "!tar xf spark-3.2.1-bin-hadoop3.2.tgz\n",
        "!pip install -q findspark\n",
        "!pip install pyspark\n",
        "!pip install py4j\n",
        "\n",
        "import os\n",
        "import sys\n",
        "# os.environ[\"JAVA_HOME\"] = \"/usr/lib/jvm/java-8-openjdk-amd64\"\n",
        "# os.environ[\"SPARK_HOME\"] = \"/content/spark-3.2.1-bin-hadoop3.2\"\n",
        "\n",
        "\n",
        "import findspark\n",
        "findspark.init()\n",
        "findspark.find()\n",
        "\n",
        "import pyspark\n",
        "\n",
        "from pyspark.sql import DataFrame, SparkSession\n",
        "from typing import List\n",
        "import pyspark.sql.types as T\n",
        "from pyspark.sql.functions import col, avg, count\n",
        "\n",
        "spark= SparkSession \\\n",
        "       .builder \\\n",
        "       .appName(\"BestAndWorstProducts\") \\\n",
        "       .getOrCreate()\n",
        "\n",
        "spark"
      ]
    },
    {
      "cell_type": "code",
      "source": [
        "\n",
        "\n",
        "\n",
        "# Load the JSON file\n",
        "df = spark.read.json('reviews_MP3_Players_and_Accessories.json')\n",
        "\n",
        "df.show()\n"
      ],
      "metadata": {
        "id": "7d1PxDoTvISg",
        "colab": {
          "base_uri": "https://localhost:8080/"
        },
        "outputId": "46c98f7e-2da3-4bd4-a119-c6654eb16f2c"
      },
      "execution_count": null,
      "outputs": [
        {
          "output_type": "stream",
          "name": "stdout",
          "text": [
            "+----------+-------+-------+--------------------+-----------+--------------+--------------------+--------------------+--------------+\n",
            "|      asin|helpful|overall|          reviewText| reviewTime|    reviewerID|        reviewerName|             summary|unixReviewTime|\n",
            "+----------+-------+-------+--------------------+-----------+--------------+--------------------+--------------------+--------------+\n",
            "|9861006532| [0, 0]|    4.0|Love the way it l...|03 16, 2010| AEIPMJVXOH3Y5|Amanda J. Rapp \"A...|         Cherry Case|    1268697600|\n",
            "|9861029672| [0, 0]|    5.0|this is a great c...|02 10, 2012|A1Z4KYGN1GLVAK|           Doreend06|       great product|    1328832000|\n",
            "|9882076335| [0, 0]|    4.0|I ordered this ca...|02 12, 2011|  A6M6F6RMKN77|             Katie18|         Looks real!|    1297468800|\n",
            "|9882076335| [0, 0]|    1.0|Thsi iphone case ...| 04 1, 2011|A1X3SJZWSM8FJZ|                QUAZ|   It's HORRIBLE!!!!|    1301616000|\n",
            "|9882076335| [0, 0]|    1.0|first, it looked ...|12 27, 2010|A357YZPDLGPGOJ|Santosh K. Tiwari...|One sentence for ...|    1293408000|\n",
            "|9882076335| [0, 0]|    4.0|item came quick a...|02 26, 2011|A306V5DUCWPOOR| S. bektasli \"ariss\"|Good enough for t...|    1298678400|\n",
            "|9882076335| [2, 2]|    5.0|I am using this p...|05 18, 2010| AH3DQZXEJ2DIW|      {Status Check}|Cloned iPhone cas...|    1274140800|\n",
            "|9882150055| [0, 0]|    1.0|Item looks really...|10 26, 2010|A3UAOQWQVK4NEP|      A. Lela \"nit1\"|Item looks very g...|    1288051200|\n",
            "|9882150055| [0, 0]|    2.0|I bought this cas...|11 27, 2010| AYASVZG1GMJL5|                 Jon|Feels Nice but br...|    1290816000|\n",
            "|9882150055| [0, 0]|    1.0|This case fit poo...|10 22, 2010|A2DROAQ8PALM40|Melissa Yunke \"Si...|Poor product but ...|    1287705600|\n",
            "|9882150055| [0, 0]|    1.0|I've never writte...|08 25, 2010|A3FTQWQDG5CIXZ|              nb2259|    terrible product|    1282694400|\n",
            "|9882150055| [2, 2]|    2.0|IT'S A NICE PRODU...|03 30, 2010|A2WO3X8M2E0A54|Rigoberto Serrano...|        poor product|    1269907200|\n",
            "|9882150055| [0, 0]|    3.0|The plastic is ch...|06 10, 2010|A2UFSE99XWZ37B|       S. Soukhaseum|You get what you ...|    1276128000|\n",
            "|9882150896| [0, 0]|    4.0|The cover looks n...|08 29, 2010| AS8CUN4Y0N0ZZ|          iphoneuser|Pretty decent cover!|    1283040000|\n",
            "|9882150896| [0, 0]|    5.0|This Is the best ...|01 31, 2010|A3FFQAO479RWXW|          Kyle Klett|Awesome Case for ...|    1264896000|\n",
            "|9882150896| [0, 0]|    5.0|Protect your iPho...|11 15, 2011|A30DKHSDQEQ8S7|         Rprincepsyd|Best bang for ya ...|    1321315200|\n",
            "|9882150896| [1, 2]|    1.0|This is a Christm...|01 23, 2010|A387RNHZLYEQCY|              S. Lee|Product is not in...|    1264204800|\n",
            "|9882152481| [2, 2]|    1.0|The description d...|03 29, 2010| ASFWX9ET0QQWP|Adam R. Davis \"Adam\"|            HORRIBLE|    1269820800|\n",
            "|9882152481| [1, 3]|    4.0|It came in very f...|03 15, 2010|A3SD5EMOYOLELW|      Alma M. Mcniel|     Worth the money|    1268611200|\n",
            "|9882152481| [4, 4]|    1.0|This is truly the...|03 28, 2010|A3BT9N6PUGV2I0|         Boatbuilder|Not worth the bag...|    1269734400|\n",
            "+----------+-------+-------+--------------------+-----------+--------------+--------------------+--------------------+--------------+\n",
            "only showing top 20 rows\n",
            "\n"
          ]
        }
      ]
    },
    {
      "cell_type": "code",
      "source": [
        "grouped_df = df.groupBy(\"asin\").agg(\n",
        "    count(\"*\").alias(\"num_reviews\"),\n",
        "    avg(\"overall\").alias(\"avg_rating\")\n",
        ")\n",
        "\n",
        "# Show the aggregated DataFrame\n",
        "grouped_df.show(truncate=False)"
      ],
      "metadata": {
        "id": "rZG1yjRjvMLM",
        "colab": {
          "base_uri": "https://localhost:8080/"
        },
        "outputId": "7aa7d595-836e-48b5-972c-8a9007f9f7d3"
      },
      "execution_count": null,
      "outputs": [
        {
          "output_type": "stream",
          "name": "stdout",
          "text": [
            "+----------+-----------+------------------+\n",
            "|asin      |num_reviews|avg_rating        |\n",
            "+----------+-----------+------------------+\n",
            "|B0018MESWU|1          |5.0               |\n",
            "|B001DJDTZK|1          |1.0               |\n",
            "|B001EHLSQS|1          |5.0               |\n",
            "|B002P0ZK4Y|2          |3.5               |\n",
            "|B0037FY09M|3          |4.0               |\n",
            "|B004IM7X7E|13         |3.0               |\n",
            "|B00006I512|1          |5.0               |\n",
            "|B0006FLOR2|6          |3.5               |\n",
            "|B000A1ICRC|1          |2.0               |\n",
            "|B000BYU63Q|22         |3.909090909090909 |\n",
            "|B0033XWK40|1          |3.0               |\n",
            "|B005G4XEV2|7          |4.571428571428571 |\n",
            "|B00005AW1E|55         |2.3636363636363638|\n",
            "|B0000C9Z2Z|1          |5.0               |\n",
            "|B0001NA3EE|2          |5.0               |\n",
            "|B000B45CKI|1          |5.0               |\n",
            "|B000NNRCF0|1          |2.0               |\n",
            "|B004BOG0Z0|1          |5.0               |\n",
            "|B004WP2D6I|3          |1.3333333333333333|\n",
            "|B00004WHW2|8          |3.875             |\n",
            "+----------+-----------+------------------+\n",
            "only showing top 20 rows\n",
            "\n"
          ]
        }
      ]
    },
    {
      "cell_type": "code",
      "source": [
        "# Get top 10 and worst 10 by number of reviews\n",
        "top_10_reviews = grouped_df.orderBy(col(\"num_reviews\").desc()).limit(10)\n",
        "worst_10_reviews = grouped_df.orderBy(col(\"num_reviews\").asc()).limit(10)\n",
        "\n",
        "# Save the results to CSV files\n",
        "top_10_reviews.coalesce(1).write.csv(\"top_10_reviews.csv\", header=True)\n",
        "worst_10_reviews.coalesce(1).write.csv(\"worst_10_reviews.csv\", header=True)\n"
      ],
      "metadata": {
        "id": "LJFfDMPuED-2"
      },
      "execution_count": null,
      "outputs": []
    },
    {
      "cell_type": "code",
      "source": [
        "# Get top 10 and worst 10 by average rating\n",
        "top_10_ratings = grouped_df.orderBy(col(\"avg_rating\").desc()).limit(10)\n",
        "worst_10_ratings = grouped_df.orderBy(col(\"avg_rating\").asc()).limit(10)\n",
        "#save\n",
        "top_10_ratings.coalesce(1).write.csv(\"top_10_ratings.csv\", header=True)\n",
        "worst_10_ratings.coalesce(1).write.csv(\"worst_10_ratings.csv\", header=True)"
      ],
      "metadata": {
        "id": "n7uoEdxc6Ic8"
      },
      "execution_count": null,
      "outputs": []
    },
    {
      "cell_type": "code",
      "source": [
        "top_10_ratings.show()\n",
        "worst_10_ratings.show()"
      ],
      "metadata": {
        "colab": {
          "base_uri": "https://localhost:8080/"
        },
        "id": "h_CqyiLS6gPm",
        "outputId": "65e550ae-3262-45d4-faf4-ba64e0f82d12"
      },
      "execution_count": null,
      "outputs": [
        {
          "output_type": "stream",
          "name": "stdout",
          "text": [
            "+----------+-----------+----------+\n",
            "|      asin|num_reviews|avg_rating|\n",
            "+----------+-----------+----------+\n",
            "|B000VE0G4K|          1|       5.0|\n",
            "|B0050P5Z3W|          1|       5.0|\n",
            "|B0018MESWU|          1|       5.0|\n",
            "|B000CS9K8I|          1|       5.0|\n",
            "|B001EHLSQS|          1|       5.0|\n",
            "|B004BOG0Z0|          1|       5.0|\n",
            "|B0002NRL9S|          1|       5.0|\n",
            "|B0000C9Z2Z|          1|       5.0|\n",
            "|B000NP2JSI|          2|       5.0|\n",
            "|B000B45CKI|          1|       5.0|\n",
            "+----------+-----------+----------+\n",
            "\n",
            "+----------+-----------+----------+\n",
            "|      asin|num_reviews|avg_rating|\n",
            "+----------+-----------+----------+\n",
            "|B00112AZ7Y|          2|       1.0|\n",
            "|B00346GQUK|          1|       1.0|\n",
            "|B0000T70QI|          2|       1.0|\n",
            "|B002AT26AG|          1|       1.0|\n",
            "|B001DJDTZK|          1|       1.0|\n",
            "|B002PO5B6M|          1|       1.0|\n",
            "|B0049IG6V6|          1|       1.0|\n",
            "|B004OYPDZ0|          1|       1.0|\n",
            "|B000G3KNEY|          1|       1.0|\n",
            "|B0044Y5CUG|          1|       1.0|\n",
            "+----------+-----------+----------+\n",
            "\n"
          ]
        }
      ]
    },
    {
      "cell_type": "code",
      "source": [
        "top_10_reviews.show()\n",
        "worst_10_reviews.show()"
      ],
      "metadata": {
        "colab": {
          "base_uri": "https://localhost:8080/"
        },
        "id": "D0-DXi887qrC",
        "outputId": "279d1430-d551-4ca5-9fd6-93d62002e12e"
      },
      "execution_count": null,
      "outputs": [
        {
          "output_type": "stream",
          "name": "stdout",
          "text": [
            "+----------+-----------+------------------+\n",
            "|      asin|num_reviews|        avg_rating|\n",
            "+----------+-----------+------------------+\n",
            "|B007R6HUBC|       3147| 4.236097870988242|\n",
            "|B0042B9U8Q|       2263| 3.152894387980557|\n",
            "|B003N9SR00|       1191| 4.216624685138539|\n",
            "|B005P1VNDW|        564| 4.340425531914893|\n",
            "|B0097BEG08|        545|3.9706422018348624|\n",
            "|B001DDE4VY|        434| 4.071428571428571|\n",
            "|B008XMV05G|        409| 4.124694376528117|\n",
            "|B00277EMQ2|        369|3.6151761517615175|\n",
            "|B005NGJLYW|        306| 3.349673202614379|\n",
            "|B005P1VMLU|        237|4.4978902953586495|\n",
            "+----------+-----------+------------------+\n",
            "\n",
            "+----------+-----------+----------+\n",
            "|      asin|num_reviews|avg_rating|\n",
            "+----------+-----------+----------+\n",
            "|B0033XWK40|          1|       3.0|\n",
            "|B000VE0G4K|          1|       5.0|\n",
            "|B001DJDTZK|          1|       1.0|\n",
            "|B0000C9Z2Z|          1|       5.0|\n",
            "|B004BOG0Z0|          1|       5.0|\n",
            "|B00006I512|          1|       5.0|\n",
            "|B000NNRCF0|          1|       2.0|\n",
            "|B000B45CKI|          1|       5.0|\n",
            "|B0018MESWU|          1|       5.0|\n",
            "|B000A1ICRC|          1|       2.0|\n",
            "+----------+-----------+----------+\n",
            "\n"
          ]
        }
      ]
    },
    {
      "cell_type": "code",
      "source": [],
      "metadata": {
        "id": "-C66SRfc8EVt"
      },
      "execution_count": null,
      "outputs": []
    }
  ]
}